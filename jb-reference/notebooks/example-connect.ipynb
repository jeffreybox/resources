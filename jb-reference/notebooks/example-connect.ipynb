{
 "cells": [
  {
   "cell_type": "markdown",
   "metadata": {},
   "source": [
    "# HOW TO CONNECT TO ORACLE IN JUPYTER"
   ]
  },
  {
   "cell_type": "code",
   "execution_count": null,
   "metadata": {},
   "outputs": [],
   "source": [
    "# dependencies\n",
    "import os\n",
    "import time\n",
    "from datetime import datetime, timedelta\n",
    "from math import ceil\n",
    "import threading\n",
    "import numpy as np\n",
    "import pandas as pd\n",
    "import matplotlib.pyplot as plt\n",
    "\n",
    "# panda's stupid setcopy warning\n",
    "pd.options.mode.chained_assignment = None"
   ]
  },
  {
   "cell_type": "code",
   "execution_count": null,
   "metadata": {},
   "outputs": [],
   "source": [
    "# oracle\n",
    "import cx_Oracle\n",
    "#import psycopg2\n",
    "#from sqlalchemy import create_engine"
   ]
  },
  {
   "cell_type": "code",
   "execution_count": null,
   "metadata": {},
   "outputs": [],
   "source": [
    "# # pyspark things for Minerva\n",
    "# from pyspark.sql import HiveContext, SQLContext\n",
    "# from pyspark.sql.functions import col, count, when"
   ]
  },
  {
   "cell_type": "markdown",
   "metadata": {},
   "source": [
    "# CONNECTIONS"
   ]
  },
  {
   "cell_type": "code",
   "execution_count": null,
   "metadata": {},
   "outputs": [],
   "source": [
    "# CX_ORACLE\n",
    "oracle_ezcon = \"dukedmts07-scan:1521/sbeaaduke2.world\"\n",
    "\n",
    "# EDW\n",
    "oracle_URI = \"SBEAA.WORLD\"\n",
    "oracle_UID = \"TECH_METRICS_READ\"\n",
    "oracle_password = \"g8terl8\"  "
   ]
  },
  {
   "cell_type": "code",
   "execution_count": null,
   "metadata": {},
   "outputs": [],
   "source": [
    "# MINERVA SPARK CONTEXT\n",
    "def minerva(sc)\n",
    "    sc.stop()\n",
    "\n",
    "    # increase memory\n",
    "    conf = (SparkConf()\n",
    "        .set(\"spark.driver.maxResultSize\", \"5g\"))\n",
    "\n",
    "    # create contexts\n",
    "    sc = SparkContext(conf=conf)\n",
    "    hc = SQLContext(sc)\n",
    "\n",
    "    return sc, hc"
   ]
  },
  {
   "cell_type": "code",
   "execution_count": null,
   "metadata": {},
   "outputs": [],
   "source": [
    "sc, hc = minerva(sc)\n",
    "print(sc)\n",
    "print(hc)"
   ]
  },
  {
   "cell_type": "code",
   "execution_count": null,
   "metadata": {},
   "outputs": [],
   "source": [
    "def ezconnect():\n",
    "    #setup connection variables for AA\n",
    "    username = oracle_UID\n",
    "    password = oracle_password\n",
    "    URI = oracle_URI\n",
    "    #connect to the database\n",
    "    client = cx_Oracle.connect(aa_UID, aa_password, oracle_ezcon)\n",
    "    cursor = client.cursor()\n",
    "    return client, cursor"
   ]
  },
  {
   "cell_type": "code",
   "execution_count": null,
   "metadata": {},
   "outputs": [],
   "source": [
    "# test ezconnect()\n",
    "client, cursor = ezconnect()\n",
    "print(client)\n",
    "print(cursor)"
   ]
  },
  {
   "cell_type": "markdown",
   "metadata": {},
   "source": [
    "## EXAMPLES"
   ]
  },
  {
   "cell_type": "code",
   "execution_count": null,
   "metadata": {},
   "outputs": [],
   "source": [
    "# oracle example\n",
    "\n",
    "test_sql = \"\"\"\n",
    "select *\n",
    "from siw.dim_site@sbedw.world\n",
    "where ROWNUM=1\n",
    "\"\"\"\n",
    "\n",
    "print(test_sql)"
   ]
  },
  {
   "cell_type": "code",
   "execution_count": null,
   "metadata": {},
   "outputs": [],
   "source": [
    "cursor.execute(test_sql)\n",
    "df_test = pd.read_sql(test_sql, client)\n",
    "df_test.head()"
   ]
  },
  {
   "cell_type": "code",
   "execution_count": null,
   "metadata": {},
   "outputs": [],
   "source": [
    "# Longer oracle example\n",
    "\n",
    "date = '9-SEP-19'\n",
    "interval = 5\n",
    "\n",
    "sql = \"\"\"\n",
    "SELECT\n",
    "    cust.customer_key,  \n",
    "    cust.mac_address,\n",
    "    calls.PARENT_UCID,\n",
    "    outage.TRAP_TS,\n",
    "    calls.TOTAL_HANDLED_TIME,\n",
    "    calls.MINUTE_KEY AS CALL_TIME_KEY,\n",
    "    trucks.minute_ts as TRUCK_TIME_KEY,\n",
    "    trucks.trucks_rolled\n",
    "FROM npm.eh_modem_trans_fact@sbedw.world cust\n",
    "LEFT JOIN (\n",
    "    SELECT\n",
    "        ucef.time_key,\n",
    "        ucef.minute_key,\n",
    "        UCEF.CUSTOMER_KEY,\n",
    "        UCEF.PARENT_UCID,\n",
    "        UCEF.TOTAL_HANDLED_TIME\n",
    "    FROM CALL.UNIVERSAL_CALLER_EXP_FACT@SBEDW.WORLD UCEF\n",
    "    INNER JOIN CALL.FUNCTION_CODE_GRP_LKP@SBEDW.WORLD FCGL ON FCGL.CALL_DICTIONARY_KEY = UCEF.CALL_DICT_FUNCTION_KEY\n",
    "    WHERE (ucef.INOUT_IND = 1 OR ucef.COX_IDENTITY_SITE_KEY = 31)\n",
    "    AND ucef.customer_key <> -2\n",
    "    AND fcgl.BUSINESS_APP LIKE 'Technical Support%'\n",
    "    AND ucef.time_key >= to_date('{0}') and ucef.time_key < to_date('{0}') + interval '{1}' day\n",
    "    ) calls ON calls.customer_key = cust.customer_key\n",
    "left join (\n",
    "    select\n",
    "        time_key,\n",
    "        minute_ts,\n",
    "        customer_key,\n",
    "        sum(trouble_call_roll_cnt) as trucks_rolled\n",
    "    from npm.tech_supp_trans_truck_dtl_fact@sbedw.world\n",
    "    where PRODUCT_CATEGORY_NM = 'DATA'\n",
    "    and time_key >= to_date('{0}') and time_key < to_date('{0}') + interval '{1}' day\n",
    "    group by time_key, minute_ts, customer_key\n",
    "    ) trucks ON trucks.time_key = cust.time_key\n",
    "            AND trucks.customer_key = cust.customer_key\n",
    "INNER JOIN  adv_analytics.JB_PCE_MAC_OUTAGE_CLEARS OUTAGE\n",
    "    ON OUTAGE.MACADDRESS = cust.mac_address \n",
    "WHERE cust.mac_address in (\n",
    "    SELECT \n",
    "        DISTINCT MACADDRESS\n",
    "    FROM adv_analytics.JB_PCE_MAC_OUTAGE_CLEARS) \n",
    "AND cust.time_key >= to_date('{0}') \n",
    "AND cust.time_key < to_date('{0}') + interval '{1}' day\n",
    "\"\"\".format(date, interval)\n",
    "\n",
    "print(sql)"
   ]
  },
  {
   "cell_type": "code",
   "execution_count": null,
   "metadata": {},
   "outputs": [],
   "source": [
    "cursor.execute(sql)\n",
    "df = pd.read_sql(sql, client)\n",
    "df.head()"
   ]
  },
  {
   "cell_type": "code",
   "execution_count": null,
   "metadata": {},
   "outputs": [],
   "source": [
    "cursor.close()"
   ]
  },
  {
   "cell_type": "code",
   "execution_count": null,
   "metadata": {},
   "outputs": [],
   "source": [
    "# minerva example\n",
    "\n",
    "hql = \"\"\"\n",
    "select *\n",
    "from techmetrics.cmts\n",
    "where condition = \"OFFLINE\"\n",
    "and dt >= '{0}'\n",
    "and dt < '{1}'\n",
    "limit 10\n",
    "\"\"\".format('2019-09-09','2019-09-10')\n",
    "\n",
    "print(hql)"
   ]
  },
  {
   "cell_type": "code",
   "execution_count": null,
   "metadata": {},
   "outputs": [],
   "source": [
    "hdf = hc.sql(hql).select(\"*\").toPandas()\n",
    "hdf.head()"
   ]
  }
 ],
 "metadata": {
  "kernelspec": {
   "display_name": "Python 3",
   "language": "python",
   "name": "python3"
  },
  "language_info": {
   "codemirror_mode": {
    "name": "ipython",
    "version": 3
   },
   "file_extension": ".py",
   "mimetype": "text/x-python",
   "name": "python",
   "nbconvert_exporter": "python",
   "pygments_lexer": "ipython3",
   "version": "3.7.3"
  }
 },
 "nbformat": 4,
 "nbformat_minor": 2
}
